{
 "cells": [
  {
   "cell_type": "code",
   "execution_count": 1,
   "metadata": {},
   "outputs": [
    {
     "data": {
      "text/plain": [
       "True"
      ]
     },
     "execution_count": 1,
     "metadata": {},
     "output_type": "execute_result"
    }
   ],
   "source": [
    "import requests\n",
    "import json\n",
    "from bs4 import BeautifulSoup\n",
    "import os\n",
    "import re\n",
    "import pandas as pd\n",
    "import numpy as np\n",
    "from dotenv import load_dotenv\n",
    "from pathlib import Path  # Python 3.6+ only`\n",
    "env_path = Path('.') / '.env'\n",
    "load_dotenv(dotenv_path=env_path)"
   ]
  },
  {
   "cell_type": "code",
   "execution_count": 2,
   "metadata": {},
   "outputs": [],
   "source": [
    "#### Sample playlist\n",
    "kittinan_links = 'https://gist.githubusercontent.com/kittinan/36b9977d9273755f9ca953cae31419d3/raw/50383e756bc34cfede4c58018f909805ecd1cfbc/my-playlist.json'\n",
    "dct_kittinan_playlist = requests.get(kittinan_links).json()"
   ]
  },
  {
   "cell_type": "code",
   "execution_count": 3,
   "metadata": {},
   "outputs": [
    {
     "name": "stderr",
     "output_type": "stream",
     "text": [
      "/usr/lib/python3/dist-packages/bs4/__init__.py:181: UserWarning: No parser was explicitly specified, so I'm using the best available HTML parser for this system (\"lxml\"). This usually isn't a problem, but if you run this code on another system, or in a different virtual environment, it may use a different parser and behave differently.\n",
      "\n",
      "The code that caused this warning is on line 193 of the file /usr/lib/python3.6/runpy.py. To get rid of this warning, change code that looks like this:\n",
      "\n",
      " BeautifulSoup(YOUR_MARKUP})\n",
      "\n",
      "to this:\n",
      "\n",
      " BeautifulSoup(YOUR_MARKUP, \"lxml\")\n",
      "\n",
      "  markup_type=markup_type))\n"
     ]
    }
   ],
   "source": [
    "### scrape artist siamzone\n",
    "base_url = 'https://www.siamzone.com/music/thailyric/index.php?mode=allartist'\n",
    "i = 1\n",
    "soup = BeautifulSoup(requests.get(f'{base_url}&p={i}').text)\n",
    "lst_pages = ['1'] + [tag.get_text()\n",
    "                    for tag in soup.find_all('a', attrs={'class':'uk-link', 'href':re.compile(r'\\/music\\/thailyric\\/index.php')})\n",
    "                    if len(tag.get_text())>0]\n",
    "\n",
    "lst_soup = [BeautifulSoup(requests.get(f'{base_url}&p={page}').text) for page in lst_pages]\n",
    "crawl_now = [artist for artist in [tag.get_text(strip=True).partition(' ')[-1]\n",
    "                                   for soup in lst_soup\n",
    "                                   for tag in soup.find_all('a', attrs={'class':'uk-link'})]\n",
    "             if len(artist)>0]"
   ]
  },
  {
   "cell_type": "code",
   "execution_count": 4,
   "metadata": {},
   "outputs": [],
   "source": [
    "#### Spotify Authentication\n",
    "import spotipy\n",
    "from spotipy.oauth2 import SpotifyClientCredentials\n",
    "\n",
    "sp = spotipy.Spotify(auth_manager=SpotifyClientCredentials(client_id=os.getenv('SPOTIFY_CLIENT_ID'),\n",
    "                                                           client_secret=os.getenv('SPOTIFY_SECRET')))"
   ]
  },
  {
   "cell_type": "code",
   "execution_count": 5,
   "metadata": {},
   "outputs": [],
   "source": [
    "\n",
    "playlists = sp.user_playlists('spotify')\n",
    "lst_playlist = []\n",
    "while playlists:\n",
    "    lst_playlist += [playlist for playlist in playlists['items']]\n",
    "    playlists = sp.next(playlists) if playlists['next'] else None\n",
    "    \n",
    "df_spotify_playlist = pd.DataFrame(lst_playlist)"
   ]
  },
  {
   "cell_type": "code",
   "execution_count": null,
   "metadata": {},
   "outputs": [],
   "source": [
    "#### Get siamzone\n",
    "lst_df = []\n",
    "for artist in crawl_now:\n",
    "    results = sp.search(q=artist, limit=50)\n",
    "    lst_df.append(pd.DataFrame(results['tracks']['items']))\n",
    "    df_spotify_query = pd.concat(lst_df, ignore_index=True)"
   ]
  },
  {
   "cell_type": "code",
   "execution_count": null,
   "metadata": {},
   "outputs": [],
   "source": []
  },
  {
   "cell_type": "code",
   "execution_count": null,
   "metadata": {},
   "outputs": [],
   "source": []
  }
 ],
 "metadata": {
  "kernelspec": {
   "display_name": "Python 3",
   "language": "python",
   "name": "python3"
  },
  "language_info": {
   "codemirror_mode": {
    "name": "ipython",
    "version": 3
   },
   "file_extension": ".py",
   "mimetype": "text/x-python",
   "name": "python",
   "nbconvert_exporter": "python",
   "pygments_lexer": "ipython3",
   "version": "3.6.9"
  }
 },
 "nbformat": 4,
 "nbformat_minor": 4
}
