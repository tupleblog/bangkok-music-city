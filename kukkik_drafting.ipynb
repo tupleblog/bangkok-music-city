{
 "cells": [
  {
   "cell_type": "code",
   "execution_count": 1,
   "metadata": {},
   "outputs": [
    {
     "data": {
      "text/plain": [
       "True"
      ]
     },
     "execution_count": 1,
     "metadata": {},
     "output_type": "execute_result"
    }
   ],
   "source": [
    "import requests\n",
    "import json\n",
    "from bs4 import BeautifulSoup\n",
    "import os\n",
    "import re\n",
    "import pandas as pd\n",
    "import numpy as np\n",
    "from dotenv import load_dotenv\n",
    "from pathlib import Path  # Python 3.6+ only\n",
    "env_path = Path('.') / '.env'\n",
    "load_dotenv(dotenv_path=env_path)"
   ]
  },
  {
   "cell_type": "code",
   "execution_count": 2,
   "metadata": {},
   "outputs": [],
   "source": [
    "kittinan_links = 'https://gist.githubusercontent.com/kittinan/36b9977d9273755f9ca953cae31419d3/raw/50383e756bc34cfede4c58018f909805ecd1cfbc/my-playlist.json'\n",
    "\n",
    "kittinan_playlist = requests.get(kittinan_links).json()"
   ]
  },
  {
   "cell_type": "code",
   "execution_count": 3,
   "metadata": {},
   "outputs": [],
   "source": [
    "headers = {'Accept':'application/json',\n",
    "           'Content-Type':'application/json',\n",
    "           'Authorization':f'Bearer {os.getenv(\"SPOTIFY_TOKEN\")}'}"
   ]
  },
  {
   "cell_type": "code",
   "execution_count": 4,
   "metadata": {},
   "outputs": [],
   "source": [
    "### example audio analysis\n",
    "example_audio_analysis = requests.get('https://api.spotify.com/v1/audio-analysis/06AKEBrKUckW0KREUWRnvT', headers=headers).json()"
   ]
  },
  {
   "cell_type": "code",
   "execution_count": 27,
   "metadata": {},
   "outputs": [],
   "source": [
    "### daily playlist 1\n",
    "daily_playlist_1 = requests.get('https://api.spotify.com/v1/playlists/37i9dQZF1E38P5SLJXFsfg', headers=headers).json()\n",
    "\n",
    "### emopunk example\n",
    "emopunk_playlist = requests.get('https://api.spotify.com/v1/playlists/4YQuvnyGM95iHQ0Zz85k83', headers=headers).json()\n",
    "emopunk_track = pd.DataFrame(pd.DataFrame(emopunk_playlist['tracks']['items']).track.tolist()).id\n"
   ]
  },
  {
   "cell_type": "code",
   "execution_count": 28,
   "metadata": {},
   "outputs": [],
   "source": [
    "# pd.DataFrame((kittinan_playlist['items']))\n",
    "\n",
    "# pd.DataFrame(pd.DataFrame(emopunk_playlist['tracks']['items']).track.tolist()).id"
   ]
  }
 ],
 "metadata": {
  "kernelspec": {
   "display_name": "Python 3",
   "language": "python",
   "name": "python3"
  },
  "language_info": {
   "codemirror_mode": {
    "name": "ipython",
    "version": 3
   },
   "file_extension": ".py",
   "mimetype": "text/x-python",
   "name": "python",
   "nbconvert_exporter": "python",
   "pygments_lexer": "ipython3",
   "version": "3.6.9"
  }
 },
 "nbformat": 4,
 "nbformat_minor": 4
}
