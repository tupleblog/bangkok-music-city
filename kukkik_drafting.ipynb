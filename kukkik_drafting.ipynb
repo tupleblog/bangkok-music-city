{
 "cells": [
  {
   "cell_type": "code",
   "execution_count": null,
   "metadata": {},
   "outputs": [],
   "source": [
    "import requests\n",
    "import json\n",
    "from bs4 import BeautifulSoup\n",
    "import os\n",
    "import re\n",
    "import pandas as pd\n",
    "import numpy as np\n",
    "from dotenv import load_dotenv\n",
    "from pathlib import Path  # Python 3.6+ only\n",
    "env_path = Path('.') / '.env'\n",
    "load_dotenv(dotenv_path=env_path)"
   ]
  },
  {
   "cell_type": "code",
   "execution_count": null,
   "metadata": {},
   "outputs": [],
   "source": [
    "#### Sample playlist\n",
    "kittinan_links = 'https://gist.githubusercontent.com/kittinan/36b9977d9273755f9ca953cae31419d3/raw/50383e756bc34cfede4c58018f909805ecd1cfbc/my-playlist.json'\n",
    "dct_kittinan_playlist = requests.get(kittinan_links).json()"
   ]
  },
  {
   "cell_type": "code",
   "execution_count": null,
   "metadata": {},
   "outputs": [],
   "source": [
    "#### Spotify Authentication\n",
    "import spotipy\n",
    "from spotipy.oauth2 import SpotifyClientCredentials\n",
    "\n",
    "sp = spotipy.Spotify(auth_manager=SpotifyClientCredentials(client_id=os.getenv('SPOTIFY_CLIENT_ID'),\n",
    "                                                           client_secret=os.getenv('SPOTIFY_SECRET')))"
   ]
  },
  {
   "cell_type": "code",
   "execution_count": null,
   "metadata": {},
   "outputs": [],
   "source": [
    "playlists = sp.user_playlists('spotify')\n",
    "lst_playlist = []\n",
    "while playlists:\n",
    "    lst_playlist += [playlist for playlist in playlists['items']]\n",
    "    playlists = sp.next(playlists) if playlists['next'] else None\n",
    "    \n",
    "df_spotify_playlist = pd.DataFrame(lst_playlist)"
   ]
  },
  {
   "cell_type": "code",
   "execution_count": null,
   "metadata": {},
   "outputs": [],
   "source": [
    "results = sp.search(q='paul mccartney', limit=20)\n",
    "df_spotify_query = pd.DataFrame(results['tracks']['items'])"
   ]
  },
  {
   "cell_type": "code",
   "execution_count": null,
   "metadata": {},
   "outputs": [],
   "source": []
  }
 ],
 "metadata": {
  "kernelspec": {
   "display_name": "Python 3",
   "language": "python",
   "name": "python3"
  },
  "language_info": {
   "codemirror_mode": {
    "name": "ipython",
    "version": 3
   },
   "file_extension": ".py",
   "mimetype": "text/x-python",
   "name": "python",
   "nbconvert_exporter": "python",
   "pygments_lexer": "ipython3",
   "version": "3.6.9"
  }
 },
 "nbformat": 4,
 "nbformat_minor": 4
}
